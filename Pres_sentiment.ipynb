{
  "nbformat": 4,
  "nbformat_minor": 0,
  "metadata": {
    "colab": {
      "provenance": [],
      "authorship_tag": "ABX9TyMHDHYTkRFs8gF//fVJjWqv",
      "include_colab_link": true
    },
    "kernelspec": {
      "name": "python3",
      "display_name": "Python 3"
    },
    "language_info": {
      "name": "python"
    }
  },
  "cells": [
    {
      "cell_type": "markdown",
      "metadata": {
        "id": "view-in-github",
        "colab_type": "text"
      },
      "source": [
        "<a href=\"https://colab.research.google.com/github/KatrinaH92/git_test/blob/main/Pres_sentiment.ipynb\" target=\"_parent\"><img src=\"https://colab.research.google.com/assets/colab-badge.svg\" alt=\"Open In Colab\"/></a>"
      ]
    },
    {
      "cell_type": "code",
      "execution_count": null,
      "metadata": {
        "id": "Akye8HGGZGeW"
      },
      "outputs": [],
      "source": [
        "import pandas as pd\n",
        "import numpy as np\n",
        "import matplotlib.pyplot as plt\n",
        "import seaborn as sns\n",
        "from nltk.sentiment import SentimentIntensityAnalyzer\n",
        "from tqdm.notebook import tqdm\n",
        "\n",
        "plt.style.use('ggplot')\n",
        "\n",
        "import nltk"
      ]
    },
    {
      "cell_type": "code",
      "source": [
        "presidents = pd.read_csv(r'C:\\Users\\katri\\OneDrive\\Desktop\\US presidents\\us_election_2020_1st_presidential_debate.csv')\n",
        "print(presidents.shape)\n"
      ],
      "metadata": {
        "id": "biEZy5iRZIoc"
      },
      "execution_count": null,
      "outputs": []
    },
    {
      "cell_type": "code",
      "source": [
        "presidents.head()"
      ],
      "metadata": {
        "id": "xGTAgQHmZKKs"
      },
      "execution_count": null,
      "outputs": []
    },
    {
      "cell_type": "code",
      "source": [
        "nltk.download('vader_lexicon')\n",
        "sia = SentimentIntensityAnalyzer()\n",
        "# Add sentiment columns to the DataFrame\n",
        "tqdm.pandas()  # Enable progress bar for pandas operations\n",
        "\n",
        "# Define a function to calculate sentiment for a given text\n",
        "def calculate_sentiment(text):\n",
        "    sentiment = sia.polarity_scores(text)\n",
        "    return sentiment['neg'], sentiment['neu'], sentiment['pos'], sentiment['compound']\n",
        "\n",
        "# Apply the function to the 'text' column and create new columns\n",
        "presidents[['neg', 'neu', 'pos', 'compound']] = presidents['text'].progress_apply(\n",
        "    lambda x: calculate_sentiment(x)\n",
        ").apply(pd.Series)\n",
        "\n",
        "# Inspect the updated DataFrame\n",
        "presidents.head()"
      ],
      "metadata": {
        "id": "e1Xily5EZLl5"
      },
      "execution_count": null,
      "outputs": []
    },
    {
      "cell_type": "code",
      "source": [
        "filtered_presidents = presidents[presidents['speaker'].isin(['Vice President Joe Biden', 'President Donald J. Trump'])]\n",
        "ax = sns.barplot(data=filtered_presidents, x='speaker', y='compound')\n",
        "ax.set_title('Compound Score by Speaker')\n",
        "plt.show()"
      ],
      "metadata": {
        "id": "-0G6uoJtZNKg"
      },
      "execution_count": null,
      "outputs": []
    },
    {
      "cell_type": "code",
      "source": [
        "fig, axs = plt.subplots(1, 3, figsize=(12, 3))\n",
        "sns.barplot(data=filtered_presidents, x='speaker', y='pos', ax=axs[0])\n",
        "sns.barplot(data=filtered_presidents, x='speaker', y='neu', ax=axs[1])\n",
        "sns.barplot(data=filtered_presidents, x='speaker', y='neg', ax=axs[2])\n",
        "axs[0].set_title('Positive')\n",
        "axs[1].set_title('Neutral')\n",
        "axs[2].set_title('Negative')\n",
        "plt.tight_layout()\n",
        "plt.show()"
      ],
      "metadata": {
        "id": "H-P9qOglZQp1"
      },
      "execution_count": null,
      "outputs": []
    },
    {
      "cell_type": "code",
      "source": [
        "from transformers import AutoTokenizer\n",
        "from transformers import AutoModelForSequenceClassification\n",
        "from scipy.special import softmax"
      ],
      "metadata": {
        "id": "wlMrOk4JZRsY"
      },
      "execution_count": null,
      "outputs": []
    },
    {
      "cell_type": "code",
      "source": [
        "MODEL = f\"cardiffnlp/twitter-roberta-base-sentiment\"\n",
        "tokenizer = AutoTokenizer.from_pretrained(MODEL)\n",
        "model = AutoModelForSequenceClassification.from_pretrained(MODEL)"
      ],
      "metadata": {
        "id": "kNFn80deZTos"
      },
      "execution_count": null,
      "outputs": []
    },
    {
      "cell_type": "code",
      "source": [
        "def polarity_scores_roberta(example):\n",
        "    encoded_text = tokenizer(example, return_tensors='pt')\n",
        "    output = model(**encoded_text)\n",
        "    scores = output[0][0].detach().numpy()\n",
        "    scores = softmax(scores)  # Apply softmax to normalize scores\n",
        "    scores_dict = {\n",
        "        'roberta_neg': scores[0],\n",
        "        'roberta_neu': scores[1],\n",
        "        'roberta_pos': scores[2]\n",
        "    }\n",
        "    return scores_dict"
      ],
      "metadata": {
        "id": "Fp4gL0OQZWZe"
      },
      "execution_count": null,
      "outputs": []
    },
    {
      "cell_type": "code",
      "source": [
        "res = []\n",
        "\n",
        "for i, row in tqdm(presidents.iterrows(), total=len(presidents)):\n",
        "    try:\n",
        "        text = row['text']\n",
        "        speaker = row['speaker']\n",
        "\n",
        "        # Sentiment analysis using VADER (assuming 'sia' is defined)\n",
        "        pres_result = sia.polarity_scores(text)\n",
        "\n",
        "        # Sentiment analysis using Roberta\n",
        "        roberta_result = polarity_scores_roberta(text)\n",
        "\n",
        "        # Store results\n",
        "        res.append({\n",
        "            'speaker': speaker,\n",
        "            'text': text,\n",
        "            'sia_positive': pres_result['pos'],\n",
        "            'sia_negative': pres_result['neg'],\n",
        "            'sia_neutral': pres_result['neu'],\n",
        "            'sia_compound': pres_result['compound'],\n",
        "            'roberta_positive': roberta_result['roberta_pos'],  # Fixing the key\n",
        "            'roberta_negative': roberta_result['roberta_neg'],  # Fixing the key\n",
        "            'roberta_neutral': roberta_result['roberta_neu'],   # Fixing the key\n",
        "            'roberta_compound': roberta_result['roberta_pos'] - roberta_result['roberta_neg']  # Example for compound score\n",
        "        })\n",
        "\n",
        "    except RuntimeError:\n",
        "        print(f'Broke for id {i} with text: {text[:50]}')  # Display part of the problematic text for debugging"
      ],
      "metadata": {
        "id": "JxMdn8zhZZqq"
      },
      "execution_count": null,
      "outputs": []
    },
    {
      "cell_type": "code",
      "source": [
        "results_df = pd.DataFrame(res)\n",
        "\n",
        "# Ensure the column 'speaker' exists\n",
        "if 'speaker' not in results_df.columns:\n",
        "    print(\"Error: 'speaker' column is missing from results_df\")\n",
        "\n",
        "# Filter for Biden and Trump\n",
        "filtered_df = results_df[results_df['speaker'].isin(['Vice President Joe Biden', 'President Donald J. Trump'])]\n",
        "\n",
        "# Inspect the filtered results\n",
        "filtered_df.head()"
      ],
      "metadata": {
        "id": "sRsW64iPZaSK"
      },
      "execution_count": null,
      "outputs": []
    },
    {
      "cell_type": "code",
      "source": [
        "ax = sns.barplot(data=filtered_df, x='speaker', y='roberta_compound')\n",
        "ax.set_title('Compound Score by Speaker')\n",
        "plt.show()"
      ],
      "metadata": {
        "id": "MC2zg35qZcR2"
      },
      "execution_count": null,
      "outputs": []
    },
    {
      "cell_type": "code",
      "source": [
        "fig, axs = plt.subplots(1, 3, figsize=(12, 3))\n",
        "sns.barplot(data=filtered_df, x='speaker', y='roberta_positive', ax=axs[0])\n",
        "sns.barplot(data=filtered_df, x='speaker', y='roberta_neutral', ax=axs[1])\n",
        "sns.barplot(data=filtered_df, x='speaker', y='roberta_negative', ax=axs[2])\n",
        "axs[0].set_title('Positive')\n",
        "axs[1].set_title('Neutral')\n",
        "axs[2].set_title('Negative')\n",
        "plt.tight_layout()\n",
        "plt.show()"
      ],
      "metadata": {
        "id": "gEsTZ2UBZdsK"
      },
      "execution_count": null,
      "outputs": []
    }
  ]
}